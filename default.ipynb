{
 "cells": [
  {
   "cell_type": "code",
   "execution_count": 1,
   "id": "42b82b7d-89f7-42c5-9e92-52f117614e23",
   "metadata": {},
   "outputs": [],
   "source": [
    "import ipyparallel as ipp\n",
    "\n",
    "cluster = ipp.Cluster(engine_launcher_class=\"slurm\", controller_ip=\"0.0.0.0\")\n",
    "cluster.config.SlurmEngineSetLauncher.batch_template = \"\"\"\\\n",
    "#!/bin/sh\n",
    "#SBATCH --ntasks={n}\n",
    "#SBATCH --export=ALL\n",
    "#SBATCH --job-name=ipengine-{cluster_id}\n",
    "#SBATCH --cpus-per-task=1\n",
    "env | sort\n",
    "\n",
    "mpirun {program_and_args}\n",
    "\"\"\"\n",
    "\n",
    "cluster.start_cluster_sync(n=4)\n",
    "rc = cluster.connect_client_sync()\n",
    "rc.wait_for_engines(4)"
   ]
  },
  {
   "cell_type": "code",
   "execution_count": null,
   "id": "48bb4ce9-c35e-4513-a5c7-6425b0545f06",
   "metadata": {},
   "outputs": [],
   "source": []
  }
 ],
 "metadata": {
  "kernelspec": {
   "display_name": "Python 3 (ipykernel)",
   "language": "python",
   "name": "python3"
  },
  "language_info": {
   "codemirror_mode": {
    "name": "ipython",
    "version": 3
   },
   "file_extension": ".py",
   "mimetype": "text/x-python",
   "name": "python",
   "nbconvert_exporter": "python",
   "pygments_lexer": "ipython3",
   "version": "3.8.10"
  }
 },
 "nbformat": 4,
 "nbformat_minor": 5
}
